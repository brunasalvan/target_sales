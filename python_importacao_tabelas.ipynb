```python
pip install mysql-connector-python
```

    Requirement already satisfied: mysql-connector-python in c:\users\bruna\anaconda3\lib\site-packages (9.2.0)Note: you may need to restart the kernel to use updated packages.
    
 
```python
import mysql.connector
import csv
import pandas as pd
```


```python
mydb = mysql.connector.connect(
  host="localhost",   #192.168.2.108
  user="root",
  password="**********",
  database="db_target"
)
```


```python
df = pd.read_csv(r'C:\\Users\\bruna\\Documents\\target\\payments.csv')
```


```python
df.info()
```


```python
mycursor = mydb.cursor()
mydb.commit()
```


```python
# TABELA GEOLOCATION

with open('C:\\Users\\bruna\\Documents\\target\\geolocation.csv', 'r') as file:
    reader = csv.reader(file)
    next(reader)  
    for row in reader:
        sql = "INSERT INTO tb_geolocation (geolocation_zip_code_prefix, geolocation_lat, geolocation_lng, geolocation_city, geolocation_state) VALUES (%s, %s, %s, %s, %s)"
        val = (row[0], row[1], row[2], row[3], row[4])  
        try:
            mycursor.execute(sql, val)
        except mysql.connector.Error as err:
            print(f"Erro ao inserir linha: {row}")  
            print(f"Erro: {err}") 
            mydb.rollback()  # 
            break 

mydb.commit()
mydb.close()
```


```python
# TABELA ORDERS

with open('C:\\Users\\bruna\\Documents\\target\\orders.csv', 'r') as file:
    reader = csv.reader(file)
    next(reader)  
    for row in reader:
        sql = "INSERT INTO tb_order (order_id, customer_id, order_status, order_purchase_timestamp, order_approved_at, order_delivered_carrier_date, order_delivered_customer_date, order_estimated_delivery_date) VALUES (%s, %s, %s, %s, %s, %s)"
        val = (row[0], row[1], row[2], row[3], row[4], row[5])  
        try:
            mycursor.execute(sql, val)
        except mysql.connector.Error as err:
            print(f"Erro ao inserir linha: {row}")  
            print(f"Erro: {err}") 
            mydb.rollback()  # 
            break 

mydb.commit()
mydb.close()
```


```python
# TABELA PAYMENTS

with open('C:\\Users\\bruna\\Documents\\target\\payments.csv', 'r') as file:
    reader = csv.reader(file)
    next(reader)  
    for row in reader:
        sql = "INSERT INTO tb_payments (order_id, payment_sequential, payment_type, payment_installments, payment_value) VALUES (%s, %s, %s, %s, %s)"
        val = (row[0], row[1], row[2], row[3], row[4])
        try:
            mycursor.execute(sql, val)
        except mysql.connector.Error as err:
            print(f"Erro ao inserir linha: {row}")
            print(f"Erro: {err}")
            mydb.rollback()
            break

mydb.commit()
mydb.close()
```


```python
# TABELA ORDER_ITEMS

with open('C:\\Users\\bruna\\Documents\\target\\order_items.csv', 'r') as file:
    reader = csv.reader(file)
    next(reader)  
    for row in reader:
        sql = "INSERT INTO tb_order_items (order_id, order_item_id, product_id, seller_id, shipping_limit_date, price, freight_value) VALUES (%s, %s, %s, %s, %s, %s, %s)"
        val = (row[0], row[1], row[2], row[3], row[4], row[5], row[6])  
        try:
            mycursor.execute(sql, val)
        except mysql.connector.Error as err:
            print(f"Erro ao inserir linha: {row}")  
            print(f"Erro: {err}") 
            mydb.rollback()  # 
            break 

mydb.commit()
mydb.close()
```


```python
# TABELA PRODUCTS

with open('C:\\Users\\bruna\\Documents\\target\\products.csv', 'r') as file:
    reader = csv.reader(file)
    next(reader)  
    for row in reader:
        sql = "INSERT INTO tb_products (product_id, product_category) VALUES (%s, %s)"
        val = (row[0], row[1])
        try:
            mycursor.execute(sql, val)
        except mysql.connector.Error as err:
            print(f"Erro ao inserir linha: {row}")  
            print(f"Erro: {err}") 
            mydb.rollback()  # 
            break 

mydb.commit()
mydb.close()
```


```python
# TABELA SELLER

with open('C:\\Users\\bruna\\Documents\\target\\sellers.csv', 'r') as file:
    reader = csv.reader(file)
    next(reader)  
    for row in reader:
        sql = "INSERT INTO tb_seller (seller_id, seller_zip_code_prefix, seller_city, seller_state) VALUES (%s, %s, %s, %s)"
        val = (row[0], row[1], row[2], row[3])  
        try:
            mycursor.execute(sql, val)
        except mysql.connector.Error as err:
            print(f"Erro ao inserir linha: {row}")  
            print(f"Erro: {err}") 
            mydb.rollback()  # 
            break 

mydb.commit()
mydb.close()
```
